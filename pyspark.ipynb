{
 "cells": [
  {
   "cell_type": "code",
   "execution_count": 1,
   "metadata": {},
   "outputs": [
    {
     "data": {
      "text/html": [
       "\n",
       "            <div>\n",
       "                <p><b>SparkSession - in-memory</b></p>\n",
       "                \n",
       "        <div>\n",
       "            <p><b>SparkContext</b></p>\n",
       "\n",
       "            <p><a href=\"http://DESKTOP-A239J7A:4040\">Spark UI</a></p>\n",
       "\n",
       "            <dl>\n",
       "              <dt>Version</dt>\n",
       "                <dd><code>v3.5.0</code></dd>\n",
       "              <dt>Master</dt>\n",
       "                <dd><code>local[*]</code></dd>\n",
       "              <dt>AppName</dt>\n",
       "                <dd><code>pyspark-shell</code></dd>\n",
       "            </dl>\n",
       "        </div>\n",
       "        \n",
       "            </div>\n",
       "        "
      ],
      "text/plain": [
       "<pyspark.sql.session.SparkSession at 0x1d3acfab940>"
      ]
     },
     "execution_count": 1,
     "metadata": {},
     "output_type": "execute_result"
    }
   ],
   "source": [
    "import findspark\n",
    "findspark.init()\n",
    "from pyspark.sql import SparkSession\n",
    "spark = SparkSession.builder.master(\"local[*]\").getOrCreate()\n",
    "spark.conf.set(\"spark.sql.repl.eagerEval.enabled\", True)\n",
    "spark"
   ]
  },
  {
   "cell_type": "code",
   "execution_count": 2,
   "metadata": {},
   "outputs": [
    {
     "data": {
      "text/html": [
       "<table border='1'>\n",
       "<tr><th>user_id</th><th>rating</th><th>date_created</th></tr>\n",
       "<tr><td>2532865</td><td>4</td><td>2005-07-26</td></tr>\n",
       "<tr><td>573364</td><td>3</td><td>2005-06-20</td></tr>\n",
       "<tr><td>1696725</td><td>3</td><td>2004-02-27</td></tr>\n",
       "<tr><td>1253431</td><td>3</td><td>2004-03-31</td></tr>\n",
       "<tr><td>1265574</td><td>2</td><td>2003-09-01</td></tr>\n",
       "<tr><td>1049643</td><td>1</td><td>2003-11-15</td></tr>\n",
       "<tr><td>1601348</td><td>4</td><td>2005-04-05</td></tr>\n",
       "<tr><td>1495289</td><td>5</td><td>2005-07-09</td></tr>\n",
       "<tr><td>1254903</td><td>3</td><td>2003-09-02</td></tr>\n",
       "<tr><td>2604070</td><td>3</td><td>2005-05-15</td></tr>\n",
       "</table>\n"
      ],
      "text/plain": [
       "+-------+------+------------+\n",
       "|user_id|rating|date_created|\n",
       "+-------+------+------------+\n",
       "|2532865|     4|  2005-07-26|\n",
       "| 573364|     3|  2005-06-20|\n",
       "|1696725|     3|  2004-02-27|\n",
       "|1253431|     3|  2004-03-31|\n",
       "|1265574|     2|  2003-09-01|\n",
       "|1049643|     1|  2003-11-15|\n",
       "|1601348|     4|  2005-04-05|\n",
       "|1495289|     5|  2005-07-09|\n",
       "|1254903|     3|  2003-09-02|\n",
       "|2604070|     3|  2005-05-15|\n",
       "+-------+------+------------+"
      ]
     },
     "execution_count": 2,
     "metadata": {},
     "output_type": "execute_result"
    }
   ],
   "source": [
    "df = spark.read.csv('combined_data_2.txt')\n",
    "df = df.withColumnRenamed(\"_c0\", \"user_id\") \\\n",
    "        .withColumnRenamed(\"_c1\", \"rating\") \\\n",
    "        .withColumnRenamed(\"_c2\", \"date_created\")\n",
    "df.limit(10)"
   ]
  },
  {
   "cell_type": "code",
   "execution_count": 3,
   "metadata": {},
   "outputs": [
    {
     "data": {
      "text/plain": [
       "['user_id', 'rating', 'date_created']"
      ]
     },
     "execution_count": 3,
     "metadata": {},
     "output_type": "execute_result"
    }
   ],
   "source": [
    "df.columns"
   ]
  },
  {
   "cell_type": "code",
   "execution_count": 4,
   "metadata": {},
   "outputs": [
    {
     "data": {
      "text/html": [
       "<table border='1'>\n",
       "<tr><th>user_id</th></tr>\n",
       "<tr><td>2532865</td></tr>\n",
       "<tr><td>573364</td></tr>\n",
       "<tr><td>1696725</td></tr>\n",
       "<tr><td>1253431</td></tr>\n",
       "<tr><td>1265574</td></tr>\n",
       "<tr><td>1049643</td></tr>\n",
       "<tr><td>1601348</td></tr>\n",
       "<tr><td>1495289</td></tr>\n",
       "<tr><td>1254903</td></tr>\n",
       "<tr><td>2604070</td></tr>\n",
       "<tr><td>1006473</td></tr>\n",
       "<tr><td>1989892</td></tr>\n",
       "<tr><td>1517471</td></tr>\n",
       "<tr><td>1478381</td></tr>\n",
       "<tr><td>923084</td></tr>\n",
       "<tr><td>2446292</td></tr>\n",
       "<tr><td>2554745</td></tr>\n",
       "<tr><td>1133125</td></tr>\n",
       "<tr><td>349528</td></tr>\n",
       "<tr><td>1614895</td></tr>\n",
       "</table>\n",
       "only showing top 20 rows\n"
      ],
      "text/plain": [
       "+-------+\n",
       "|user_id|\n",
       "+-------+\n",
       "|2532865|\n",
       "| 573364|\n",
       "|1696725|\n",
       "|1253431|\n",
       "|1265574|\n",
       "|1049643|\n",
       "|1601348|\n",
       "|1495289|\n",
       "|1254903|\n",
       "|2604070|\n",
       "|1006473|\n",
       "|1989892|\n",
       "|1517471|\n",
       "|1478381|\n",
       "| 923084|\n",
       "|2446292|\n",
       "|2554745|\n",
       "|1133125|\n",
       "| 349528|\n",
       "|1614895|\n",
       "+-------+\n",
       "only showing top 20 rows"
      ]
     },
     "execution_count": 4,
     "metadata": {},
     "output_type": "execute_result"
    }
   ],
   "source": [
    "df.select(df.user_id)"
   ]
  },
  {
   "cell_type": "markdown",
   "metadata": {},
   "source": [
    "average rating by year"
   ]
  },
  {
   "cell_type": "code",
   "execution_count": 3,
   "metadata": {},
   "outputs": [
    {
     "name": "stdout",
     "output_type": "stream",
     "text": [
      "+----+------------------+\n",
      "|year|    average_rating|\n",
      "+----+------------------+\n",
      "|2003|3.4083814501413294|\n",
      "|NULL|              NULL|\n",
      "|2004| 3.578503101120277|\n",
      "|2001| 3.382906912772836|\n",
      "|2005| 3.660584134874719|\n",
      "|2000|3.3424697306162163|\n",
      "|1999| 3.365296803652968|\n",
      "|2002| 3.374683384360372|\n",
      "+----+------------------+\n",
      "\n"
     ]
    }
   ],
   "source": [
    "from pyspark.sql.types import *\n",
    "from pyspark.sql.functions import *\n",
    "\n",
    "netflix_with_year = df.withColumn(\"year\", year(df[\"date_created\"]))\n",
    "result = netflix_with_year.groupBy(\"year\").agg(avg(\"rating\").alias(\"average_rating\"))\n",
    "result.show()"
   ]
  },
  {
   "cell_type": "markdown",
   "metadata": {},
   "source": [
    "top users by record count"
   ]
  },
  {
   "cell_type": "code",
   "execution_count": 7,
   "metadata": {},
   "outputs": [
    {
     "name": "stdout",
     "output_type": "stream",
     "text": [
      "+-------+------------+\n",
      "|user_id|rating_count|\n",
      "+-------+------------+\n",
      "| 305344|        4682|\n",
      "| 387418|        4636|\n",
      "|2439493|        4360|\n",
      "|1664010|        4203|\n",
      "|2118461|        3899|\n",
      "+-------+------------+\n",
      "\n"
     ]
    }
   ],
   "source": [
    "user_rating_counts = df.groupBy(\"user_id\").agg(count(\"rating\").alias(\"rating_count\"))\n",
    "top_users_by_rating_count = user_rating_counts.orderBy(desc(\"rating_count\")).limit(5)\n",
    "top_users_by_rating_count.show()"
   ]
  },
  {
   "cell_type": "markdown",
   "metadata": {},
   "source": [
    "average rating by year and month"
   ]
  },
  {
   "cell_type": "code",
   "execution_count": 8,
   "metadata": {},
   "outputs": [
    {
     "name": "stdout",
     "output_type": "stream",
     "text": [
      "+----+-----+------------------+\n",
      "|year|month|    average_rating|\n",
      "+----+-----+------------------+\n",
      "|2005|    5| 3.656830882713842|\n",
      "|2001|    1| 3.380106976214863|\n",
      "|2002|    3| 3.415450875369734|\n",
      "|2004|    6|3.5522613557476546|\n",
      "|2005|   10|3.6906041917813397|\n",
      "|2000|    4| 3.344291986827662|\n",
      "|2004|    8| 3.604412025211573|\n",
      "|2003|    2|3.4003521101354326|\n",
      "|1999|   12|3.3646153846153846|\n",
      "|2002|   12| 3.437042103788434|\n",
      "|2001|    9|3.3490489982383327|\n",
      "|2003|   10| 3.443140114145375|\n",
      "|2004|   10| 3.660078595519999|\n",
      "|2000|    7| 3.352878716375649|\n",
      "|2001|    6| 3.384667637069384|\n",
      "|2002|    8|3.3906751089548557|\n",
      "|2005|    6|3.6668165870170397|\n",
      "|2003|    3|3.3537817744735787|\n",
      "|NULL| NULL|              NULL|\n",
      "|2002|   11| 3.426248396348987|\n",
      "+----+-----+------------------+\n",
      "only showing top 20 rows\n",
      "\n"
     ]
    }
   ],
   "source": [
    "year_month_avg_rating = df.withColumn(\"year\", year(\"date_created\")).withColumn(\"month\", month(\"date_created\"))\n",
    "avg_rating_by_year_month = year_month_avg_rating.groupBy(\"year\", \"month\").agg(avg(\"rating\").alias(\"average_rating\"))\n",
    "avg_rating_by_year_month.show()"
   ]
  },
  {
   "cell_type": "markdown",
   "metadata": {},
   "source": [
    "top users by average rating with at least 1000 records"
   ]
  },
  {
   "cell_type": "code",
   "execution_count": 6,
   "metadata": {},
   "outputs": [
    {
     "name": "stdout",
     "output_type": "stream",
     "text": [
      "+-------+------------------+------------+\n",
      "|user_id|        avg_rating|rating_count|\n",
      "+-------+------------------+------------+\n",
      "| 794999|  4.99627143922446|        1341|\n",
      "| 447759| 4.942363112391931|        1041|\n",
      "| 722591|4.4698235840297125|        1077|\n",
      "| 716173| 4.344579646017699|        1808|\n",
      "|1664010| 4.257673090649536|        4203|\n",
      "+-------+------------------+------------+\n",
      "\n"
     ]
    }
   ],
   "source": [
    "user_avg_ratings = df.groupBy(\"user_id\").agg(avg(\"rating\").alias(\"avg_rating\"), count(\"date_created\").alias(\"rating_count\"))\n",
    "\n",
    "top_users_with_1000_or_more_ratings = user_avg_ratings.filter(user_avg_ratings[\"rating_count\"] >= 1000)\n",
    "\n",
    "top_5_users_by_rating = top_users_with_1000_or_more_ratings.orderBy(desc(\"avg_rating\")).limit(5)\n",
    "\n",
    "top_5_users_by_rating.show()"
   ]
  },
  {
   "cell_type": "code",
   "execution_count": 4,
   "metadata": {},
   "outputs": [
    {
     "data": {
      "text/html": [
       "<table border='1'>\n",
       "<tr><th>year</th><th>count</th></tr>\n",
       "<tr><td>2003</td><td>110125</td></tr>\n",
       "<tr><td>NULL</td><td>4710</td></tr>\n",
       "<tr><td>2004</td><td>241356</td></tr>\n",
       "<tr><td>2001</td><td>18473</td></tr>\n",
       "<tr><td>2005</td><td>428593</td></tr>\n",
       "<tr><td>2000</td><td>7697</td></tr>\n",
       "<tr><td>1999</td><td>71</td></tr>\n",
       "<tr><td>2002</td><td>47317</td></tr>\n",
       "</table>\n"
      ],
      "text/plain": [
       "+----+------+\n",
       "|year| count|\n",
       "+----+------+\n",
       "|2003|110125|\n",
       "|NULL|  4710|\n",
       "|2004|241356|\n",
       "|2001| 18473|\n",
       "|2005|428593|\n",
       "|2000|  7697|\n",
       "|1999|    71|\n",
       "|2002| 47317|\n",
       "+----+------+"
      ]
     },
     "execution_count": 4,
     "metadata": {},
     "output_type": "execute_result"
    }
   ],
   "source": [
    "from pyspark.sql.functions import dayofweek, collect_list, size\n",
    "\n",
    "df.withColumn(\"year\", year(\"date_created\")).select(\"user_id\", \"year\").distinct().groupBy(\"year\").agg(count(\"user_id\").alias(\"count\")).order_by(\"count\")"
   ]
  }
 ],
 "metadata": {
  "kernelspec": {
   "display_name": "Python 3",
   "language": "python",
   "name": "python3"
  },
  "language_info": {
   "codemirror_mode": {
    "name": "ipython",
    "version": 3
   },
   "file_extension": ".py",
   "mimetype": "text/x-python",
   "name": "python",
   "nbconvert_exporter": "python",
   "pygments_lexer": "ipython3",
   "version": "3.10.6"
  }
 },
 "nbformat": 4,
 "nbformat_minor": 2
}
